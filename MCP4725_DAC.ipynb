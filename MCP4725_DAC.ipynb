{
  "nbformat": 4,
  "nbformat_minor": 0,
  "metadata": {
    "colab": {
      "provenance": [],
      "authorship_tag": "ABX9TyPO+IInPVZT2LKBnZMYeMO4",
      "include_colab_link": true
    },
    "kernelspec": {
      "name": "python3",
      "display_name": "Python 3"
    },
    "language_info": {
      "name": "python"
    }
  },
  "cells": [
    {
      "cell_type": "markdown",
      "metadata": {
        "id": "view-in-github",
        "colab_type": "text"
      },
      "source": [
        "<a href=\"https://colab.research.google.com/github/maxsteel25ft/AsyncTask/blob/master/MCP4725_DAC.ipynb\" target=\"_parent\"><img src=\"https://colab.research.google.com/assets/colab-badge.svg\" alt=\"Open In Colab\"/></a>"
      ]
    },
    {
      "cell_type": "code",
      "execution_count": null,
      "metadata": {
        "id": "J09CTOJiwZA3"
      },
      "outputs": [],
      "source": [
        "# programando bien bien a bajo nivel el DAC de 12-bits\n",
        "# domingo, 28 de abril de 2024\n",
        "# the MCP4725 tiene estas velocidades de clock\n",
        "# I2CTM Interface:\n",
        "# - Eight Available Addresses\n",
        "# - Standard (100 kbps), Fast (400 kbps), and High-Speed (3.4 Mbps) Modes\n",
        "#\n",
        "# Setting the I²C Bus Speed\n",
        "# The I²C bus supports several speeds, typically 100KHz, 400KHz, 1MHz, 3.4MHz and 5.0MHz. You can set the bus speed by editing /boot/config.txt. Open the file with nano using the command:\n",
        "\n",
        "# sudo nano /boot/config.txt\n",
        "# Add the following text to the bottom of the file; the number is the frequency of the I²C bus in hertz:\n",
        "\n",
        "# dtparam=i2c_baudrate=400000\n",
        "# Save your changes, exit the nano editor and reboot\n",
        "\n",
        "# sudo reboot\n",
        "\n",
        "\n",
        "\n",
        "from smbus import SMBus\n",
        "import time\n",
        "\n",
        "# SMBus Access\n",
        "\n",
        "# write_quick(addr)            Quick transaction.  int addr  long\n",
        "# read_byte(addr)               Read Byte transaction.  int addr  long\n",
        "# write_byte(addr,val)          Write Byte transaction. int addr, char val  long\n",
        "# read_byte_data(addr,cmd)      Read Byte Data transaction. int addr, char cmd  long\n",
        "# write_byte_data(addr,cmd,val) Write Byte Data transaction.  int addr, char cmd, char val  long\n",
        "# read_word_data(addr,cmd)      Read Word Data transaction.   int addr, char cmd  long\n",
        "# write_word_data(addr,cmd,val) Write Word Data transaction.  int addr, char cmd, int val long\n",
        "# process_call(addr,cmd,val)    Process Call transaction.     int addr, char cmd, int val long\n",
        "# read_block_data(addr,cmd)     Read Block Data transaction.  int addr, char cmd  long[]\n",
        "# write_block_data(addr,cmd,vals) Write Block Data transaction. int addr, char cmd, long[]  None\n",
        "# block_process_call(addr,cmd,vals) Block Process Call transaction. int addr, char cmd, long[]  long[]\n",
        "\n",
        "# I²C Access\n",
        "\n",
        "# read_i2c_block_data(addr,cmd) Block Read transaction. int addr, char cmd  long[]\n",
        "# write_i2c_block_data(addr,cmd,vals) Block Write transaction.  int addr, char cmd, long[]  None\n",
        "\n",
        "\n",
        "    # Define registers values from datasheet\n",
        "    # IODIRA = 0x00  # IO direction A - 1= input 0 = output\n",
        "    # IODIRB = 0x01  # IO direction B - 1= input 0 = output\n",
        "    # IPOLA = 0x02  # Input polarity A\n",
        "    # IPOLB = 0x03  # Input polarity B\n",
        "    # GPINTENA = 0x04  # Interrupt-onchange A\n",
        "    # GPINTENB = 0x05  # Interrupt-onchange B\n",
        "    # DEFVALA = 0x06  # Default value for port A\n",
        "    # DEFVALB = 0x07  # Default value for port B\n",
        "    # INTCONA = 0x08  # Interrupt control register for port A\n",
        "    # INTCONB = 0x09  # Interrupt control register for port B\n",
        "    # IOCON = 0x0A  # Configuration register\n",
        "    # GPPUA = 0x0C  # Pull-up resistors for port A\n",
        "    # GPPUB = 0x0D  # Pull-up resistors for port B\n",
        "    # INTFA = 0x0E  # Interrupt condition for port A\n",
        "    # INTFB = 0x0F  # Interrupt condition for port B\n",
        "    # INTCAPA = 0x10  # Interrupt capture for port A\n",
        "    # INTCAPB = 0x11  # Interrupt capture for port B\n",
        "    # GPIOA = 0x12  # Data port A\n",
        "    # GPIOB = 0x13  # Data port B\n",
        "    # OLATA = 0x14  # Output latches A\n",
        "    # OLATB = 0x15  # Output latches B\n",
        "\n",
        "\n",
        "\n",
        "    # Create an instance of the SMBus object called i2cbus under the list of register addresses.\n",
        "\n",
        "# i2cbus = SMBus(1)  # Create a new I2C bus\n",
        "\n",
        "# Create a variable called i2caddress with a value of 0x20.\n",
        "\n",
        "#     i2caddress = 0x20  # Address of MCP23017 device\n",
        "\n",
        "#     i2cbus.write_byte_data(i2caddress, IOCON, 0x02)  # Update configuration register\n",
        "\n",
        "# Reading and Writing to the Ports\n",
        "\n",
        "#         portb = i2cbus.read_byte_data(i2caddress, GPIOB)  # Read the value of Port B\n",
        "#         print(portb) # print the value of Port B\n",
        "\n",
        "#                 i2cbus.write_byte_data(i2caddress, GPIOA, 0x01)  # Set pin 1 to on\n",
        "#         time.sleep(0.5)  # Wait 500ms\n",
        "\n",
        "#         i2cbus.write_byte_data(i2caddress, GPIOA, 0x00)  # Set pin 1 to off\n",
        "#         time.sleep(0.5)  # Wait 500ms\n",
        "\n"
      ]
    }
  ]
}